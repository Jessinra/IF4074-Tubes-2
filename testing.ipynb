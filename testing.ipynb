{
 "cells": [
  {
   "cell_type": "code",
   "execution_count": 1,
   "metadata": {},
   "outputs": [],
   "source": [
    "import pandas as pd\n",
    "import numpy as np\n",
    "import matplotlib.pyplot as plt\n",
    "import seaborn as sns\n",
    "import math"
   ]
  },
  {
   "cell_type": "code",
   "execution_count": 2,
   "metadata": {},
   "outputs": [],
   "source": [
    "from sklearn.cluster import KMeans, DBSCAN, AgglomerativeClustering\n",
    "from sklearn import metrics\n",
    "from sklearn.metrics.cluster import contingency_matrix\n",
    "from sklearn.model_selection import train_test_split"
   ]
  },
  {
   "cell_type": "code",
   "execution_count": 3,
   "metadata": {},
   "outputs": [],
   "source": [
    "from DBSCAN import DBSCAN as c_DBSCAN\n",
    "from Agglomerative import Agglomerative as c_Agglomerative\n",
    "from commons import euclidean_distance\n",
    "c_KMeans = __import__('Draft K-Means').KMeans"
   ]
  },
  {
   "cell_type": "code",
   "execution_count": 4,
   "metadata": {},
   "outputs": [],
   "source": [
    "df = pd.read_csv('dataset/iris.data', header=None)"
   ]
  },
  {
   "cell_type": "code",
   "execution_count": 5,
   "metadata": {},
   "outputs": [
    {
     "data": {
      "text/html": [
       "<div>\n",
       "<style scoped>\n",
       "    .dataframe tbody tr th:only-of-type {\n",
       "        vertical-align: middle;\n",
       "    }\n",
       "\n",
       "    .dataframe tbody tr th {\n",
       "        vertical-align: top;\n",
       "    }\n",
       "\n",
       "    .dataframe thead th {\n",
       "        text-align: right;\n",
       "    }\n",
       "</style>\n",
       "<table border=\"1\" class=\"dataframe\">\n",
       "  <thead>\n",
       "    <tr style=\"text-align: right;\">\n",
       "      <th></th>\n",
       "      <th>0</th>\n",
       "      <th>1</th>\n",
       "      <th>2</th>\n",
       "      <th>3</th>\n",
       "      <th>4</th>\n",
       "    </tr>\n",
       "  </thead>\n",
       "  <tbody>\n",
       "    <tr>\n",
       "      <td>0</td>\n",
       "      <td>5.1</td>\n",
       "      <td>3.5</td>\n",
       "      <td>1.4</td>\n",
       "      <td>0.2</td>\n",
       "      <td>Iris-setosa</td>\n",
       "    </tr>\n",
       "    <tr>\n",
       "      <td>1</td>\n",
       "      <td>4.9</td>\n",
       "      <td>3.0</td>\n",
       "      <td>1.4</td>\n",
       "      <td>0.2</td>\n",
       "      <td>Iris-setosa</td>\n",
       "    </tr>\n",
       "    <tr>\n",
       "      <td>2</td>\n",
       "      <td>4.7</td>\n",
       "      <td>3.2</td>\n",
       "      <td>1.3</td>\n",
       "      <td>0.2</td>\n",
       "      <td>Iris-setosa</td>\n",
       "    </tr>\n",
       "    <tr>\n",
       "      <td>3</td>\n",
       "      <td>4.6</td>\n",
       "      <td>3.1</td>\n",
       "      <td>1.5</td>\n",
       "      <td>0.2</td>\n",
       "      <td>Iris-setosa</td>\n",
       "    </tr>\n",
       "    <tr>\n",
       "      <td>4</td>\n",
       "      <td>5.0</td>\n",
       "      <td>3.6</td>\n",
       "      <td>1.4</td>\n",
       "      <td>0.2</td>\n",
       "      <td>Iris-setosa</td>\n",
       "    </tr>\n",
       "  </tbody>\n",
       "</table>\n",
       "</div>"
      ],
      "text/plain": [
       "     0    1    2    3            4\n",
       "0  5.1  3.5  1.4  0.2  Iris-setosa\n",
       "1  4.9  3.0  1.4  0.2  Iris-setosa\n",
       "2  4.7  3.2  1.3  0.2  Iris-setosa\n",
       "3  4.6  3.1  1.5  0.2  Iris-setosa\n",
       "4  5.0  3.6  1.4  0.2  Iris-setosa"
      ]
     },
     "execution_count": 5,
     "metadata": {},
     "output_type": "execute_result"
    }
   ],
   "source": [
    "df.head()"
   ]
  },
  {
   "cell_type": "code",
   "execution_count": 6,
   "metadata": {},
   "outputs": [],
   "source": [
    "x = df.drop([4], axis=1)\n",
    "y = df[4]\n",
    "x_train, x_test, y_train, y_test = train_test_split(x, y, test_size=0.2)"
   ]
  },
  {
   "cell_type": "code",
   "execution_count": 7,
   "metadata": {},
   "outputs": [
    {
     "data": {
      "text/plain": [
       "array(['Iris-setosa', 'Iris-versicolor', 'Iris-virginica'], dtype=object)"
      ]
     },
     "execution_count": 7,
     "metadata": {},
     "output_type": "execute_result"
    }
   ],
   "source": [
    "y.unique()"
   ]
  },
  {
   "cell_type": "code",
   "execution_count": 8,
   "metadata": {},
   "outputs": [],
   "source": [
    "def print_info(y, label):\n",
    "    print(\"Homogeneity: %0.3f\" % metrics.homogeneity_score(y, label))\n",
    "    print(\"Completeness: %0.3f\" % metrics.completeness_score(y, label))\n",
    "    print(\"V-measure: %0.3f\" % metrics.v_measure_score(y, label))\n",
    "#     print(\"Shilouette: %0.3f\" % metrics.silhouette_score(y, label))"
   ]
  },
  {
   "cell_type": "code",
   "execution_count": 9,
   "metadata": {},
   "outputs": [],
   "source": [
    "def get_mapping_to_label(n_cluster, y, label):\n",
    "    uc = np.unique(np.array(y))\n",
    "    cluster = [{} for i in range(len(uc))]\n",
    "    label = label.reset_index(drop=True)\n",
    "    for i in range(len(y)):\n",
    "        if y[i] is not None and y[i] >= 0:\n",
    "            loc = np.where(uc == y[i])[0][0]\n",
    "            if label[i] in cluster[loc]:\n",
    "                cluster[loc][label[i]] += 1\n",
    "            else:\n",
    "                cluster[loc][label[i]] = 0\n",
    "    map = {}\n",
    "    for i in range(len(uc)):\n",
    "        if cluster[i]:\n",
    "            map[uc[i]] = max(cluster[i], key=cluster[i].get)\n",
    "    return map"
   ]
  },
  {
   "cell_type": "code",
   "execution_count": 10,
   "metadata": {},
   "outputs": [],
   "source": [
    "def apply_map_to_cluster(y, map):\n",
    "    return [map[i] for i in y]"
   ]
  },
  {
   "cell_type": "code",
   "execution_count": 11,
   "metadata": {},
   "outputs": [],
   "source": [
    "def get_accuracy(y_pred, y_test):\n",
    "    count = 0\n",
    "    for i in range(len(y_pred)):\n",
    "        if y_pred[i] == y_test[i]:\n",
    "            count += 1\n",
    "    return count / len(y_pred)"
   ]
  },
  {
   "cell_type": "code",
   "execution_count": 12,
   "metadata": {},
   "outputs": [],
   "source": [
    "def sklean_predict(x_train, y_train, x_test):\n",
    "    x_train = np.array(x_train)\n",
    "    x_test = np.array(x_test)\n",
    "    y_train = np.array(y_train)\n",
    "    y_pred = []\n",
    "    for point in x_test:\n",
    "        min_dist = math.inf\n",
    "        cluster = None\n",
    "        for i in range(len(x_train)):\n",
    "            distance = euclidean_distance(point, x_train[i])\n",
    "            if distance < min_dist and y_train[i] >= 0:\n",
    "                min_dist = distance\n",
    "                cluster = y_train[i]\n",
    "        y_pred.append(cluster)\n",
    "    return y_pred"
   ]
  },
  {
   "cell_type": "code",
   "execution_count": null,
   "metadata": {},
   "outputs": [],
   "source": []
  },
  {
   "cell_type": "markdown",
   "metadata": {},
   "source": [
    "## DBSCAN"
   ]
  },
  {
   "cell_type": "code",
   "execution_count": 13,
   "metadata": {},
   "outputs": [],
   "source": [
    "cdbscan_model = c_DBSCAN(x_train, 0.8, 2)\n",
    "cdbscan_label = cdbscan_model.get_all()\n",
    "cdbscan_map = get_mapping_to_label(3, cdbscan_label, y_train)"
   ]
  },
  {
   "cell_type": "code",
   "execution_count": 14,
   "metadata": {},
   "outputs": [
    {
     "name": "stdout",
     "output_type": "stream",
     "text": [
      "Homogeneity: 0.574\n",
      "Completeness: 0.904\n",
      "V-measure: 0.702\n"
     ]
    }
   ],
   "source": [
    "print_info(y_train, cdbscan_label)"
   ]
  },
  {
   "cell_type": "code",
   "execution_count": 15,
   "metadata": {},
   "outputs": [
    {
     "name": "stdout",
     "output_type": "stream",
     "text": [
      "Our DBSCAN accuracy =  0.7\n"
     ]
    }
   ],
   "source": [
    "cdbscan_pred = []\n",
    "for i, row in x_test.iterrows():\n",
    "    cdbscan_pred.append(cdbscan_model.predict(row))\n",
    "\n",
    "print(\n",
    "    'Our DBSCAN accuracy = ',\n",
    "    get_accuracy(apply_map_to_cluster(cdbscan_pred, cdbscan_map), y_test.reset_index(drop=True))\n",
    ")"
   ]
  },
  {
   "cell_type": "code",
   "execution_count": 16,
   "metadata": {},
   "outputs": [],
   "source": [
    "model_dbscan = DBSCAN(eps=0.8, min_samples=2).fit(x_train)\n",
    "dbscan_map = get_mapping_to_label(3, model_dbscan.labels_, y_train)"
   ]
  },
  {
   "cell_type": "code",
   "execution_count": 17,
   "metadata": {},
   "outputs": [
    {
     "name": "stdout",
     "output_type": "stream",
     "text": [
      "Homogeneity: 0.574\n",
      "Completeness: 0.904\n",
      "V-measure: 0.702\n"
     ]
    }
   ],
   "source": [
    "print_info(y_train, model_dbscan.labels_)"
   ]
  },
  {
   "cell_type": "code",
   "execution_count": 18,
   "metadata": {},
   "outputs": [
    {
     "name": "stdout",
     "output_type": "stream",
     "text": [
      "Our DBSCAN accuracy =  0.7\n"
     ]
    }
   ],
   "source": [
    "dbscan_pred = sklean_predict(x_train, model_dbscan.labels_, x_test)\n",
    "print(\n",
    "    'Our DBSCAN accuracy = ',\n",
    "    get_accuracy(apply_map_to_cluster(dbscan_pred, dbscan_map), y_test.reset_index(drop=True))\n",
    ")"
   ]
  },
  {
   "cell_type": "markdown",
   "metadata": {},
   "source": [
    "## Agglomerative"
   ]
  },
  {
   "cell_type": "markdown",
   "metadata": {},
   "source": [
    "### Single"
   ]
  },
  {
   "cell_type": "code",
   "execution_count": 19,
   "metadata": {},
   "outputs": [],
   "source": [
    "cagglomerative_single_model = c_Agglomerative(x_train, 3, 'single')\n",
    "cagglomerative_single_label = cagglomerative_single_model.get_all()\n",
    "cagglomerative_single_map = get_mapping_to_label(3, cagglomerative_single_label, y_train)"
   ]
  },
  {
   "cell_type": "code",
   "execution_count": 20,
   "metadata": {},
   "outputs": [
    {
     "name": "stdout",
     "output_type": "stream",
     "text": [
      "Homogeneity: 0.574\n",
      "Completeness: 0.904\n",
      "V-measure: 0.702\n"
     ]
    }
   ],
   "source": [
    "print_info(y_train, cagglomerative_single_label)"
   ]
  },
  {
   "cell_type": "code",
   "execution_count": 21,
   "metadata": {},
   "outputs": [
    {
     "name": "stdout",
     "output_type": "stream",
     "text": [
      "Our Agglomerative Single accuracy =  0.7\n"
     ]
    }
   ],
   "source": [
    "cagglomerative_single_pred = []\n",
    "for i, row in x_test.iterrows():\n",
    "    cagglomerative_single_pred.append(cagglomerative_single_model.predict(row))\n",
    "\n",
    "print(\n",
    "    'Our Agglomerative Single accuracy = ',\n",
    "    get_accuracy(apply_map_to_cluster(cagglomerative_single_pred, cagglomerative_single_map), y_test.reset_index(drop=True))\n",
    ")"
   ]
  },
  {
   "cell_type": "code",
   "execution_count": 22,
   "metadata": {},
   "outputs": [],
   "source": [
    "model_single = AgglomerativeClustering(3, linkage=\"single\").fit(x_train)\n",
    "agg_single_map = get_mapping_to_label(3, model_single.labels_, y_train)"
   ]
  },
  {
   "cell_type": "code",
   "execution_count": 23,
   "metadata": {
    "scrolled": false
   },
   "outputs": [
    {
     "name": "stdout",
     "output_type": "stream",
     "text": [
      "Homogeneity: 0.574\n",
      "Completeness: 0.904\n",
      "V-measure: 0.702\n"
     ]
    }
   ],
   "source": [
    "print_info(y_train, model_single.labels_)"
   ]
  },
  {
   "cell_type": "code",
   "execution_count": 24,
   "metadata": {},
   "outputs": [
    {
     "name": "stdout",
     "output_type": "stream",
     "text": [
      "Our DBSCAN accuracy =  0.7\n"
     ]
    }
   ],
   "source": [
    "agg_single_pred = sklean_predict(x_train, model_single.labels_, x_test)\n",
    "print(\n",
    "    'Our DBSCAN accuracy = ',\n",
    "    get_accuracy(apply_map_to_cluster(agg_single_pred, agg_single_map), y_test.reset_index(drop=True))\n",
    ")"
   ]
  },
  {
   "cell_type": "markdown",
   "metadata": {},
   "source": [
    "### Complete"
   ]
  },
  {
   "cell_type": "code",
   "execution_count": 25,
   "metadata": {},
   "outputs": [],
   "source": [
    "cagglomerative_complete_model = c_Agglomerative(x_train, 3, 'complete')\n",
    "cagglomerative_complete_label = cagglomerative_complete_model.get_all()\n",
    "cagglomerative_complete_map = get_mapping_to_label(3, cagglomerative_complete_label, y_train)"
   ]
  },
  {
   "cell_type": "code",
   "execution_count": 26,
   "metadata": {
    "scrolled": true
   },
   "outputs": [
    {
     "name": "stdout",
     "output_type": "stream",
     "text": [
      "Homogeneity: 0.679\n",
      "Completeness: 0.726\n",
      "V-measure: 0.701\n"
     ]
    }
   ],
   "source": [
    "print_info(y_train, cagglomerative_complete_label)"
   ]
  },
  {
   "cell_type": "code",
   "execution_count": 27,
   "metadata": {},
   "outputs": [
    {
     "name": "stdout",
     "output_type": "stream",
     "text": [
      "Our Agglomerative Complete accuracy =  0.9\n"
     ]
    }
   ],
   "source": [
    "cagglomerative_complete_pred = []\n",
    "for i, row in x_test.iterrows():\n",
    "    cagglomerative_complete_pred.append(cagglomerative_complete_model.predict(row))\n",
    "\n",
    "print(\n",
    "    'Our Agglomerative Complete accuracy = ',\n",
    "    get_accuracy(apply_map_to_cluster(cagglomerative_complete_pred, cagglomerative_complete_map), y_test.reset_index(drop=True))\n",
    ")"
   ]
  },
  {
   "cell_type": "code",
   "execution_count": 28,
   "metadata": {},
   "outputs": [],
   "source": [
    "model_complete = AgglomerativeClustering(linkage=\"complete\").fit(x_train)\n",
    "agg_complete_map = get_mapping_to_label(3, model_complete.labels_, y_train)"
   ]
  },
  {
   "cell_type": "code",
   "execution_count": 29,
   "metadata": {},
   "outputs": [
    {
     "name": "stdout",
     "output_type": "stream",
     "text": [
      "Homogeneity: 0.375\n",
      "Completeness: 0.594\n",
      "V-measure: 0.460\n"
     ]
    }
   ],
   "source": [
    "print_info(y_train, model_complete.labels_)"
   ]
  },
  {
   "cell_type": "code",
   "execution_count": 30,
   "metadata": {},
   "outputs": [
    {
     "name": "stdout",
     "output_type": "stream",
     "text": [
      "Our DBSCAN accuracy =  0.7333333333333333\n"
     ]
    }
   ],
   "source": [
    "agg_complete_pred = sklean_predict(x_train, model_complete.labels_, x_test)\n",
    "print(\n",
    "    'Our DBSCAN accuracy = ',\n",
    "    get_accuracy(apply_map_to_cluster(agg_complete_pred, agg_complete_map), y_test.reset_index(drop=True))\n",
    ")"
   ]
  },
  {
   "cell_type": "markdown",
   "metadata": {},
   "source": [
    "### Average"
   ]
  },
  {
   "cell_type": "code",
   "execution_count": 31,
   "metadata": {},
   "outputs": [],
   "source": [
    "cagglomerative_average_model = c_Agglomerative(x_train, 3, 'average')\n",
    "cagglomerative_average_label = cagglomerative_average_model.get_all()\n",
    "cagglomerative_average_map = get_mapping_to_label(3, cagglomerative_average_label, y_train)"
   ]
  },
  {
   "cell_type": "code",
   "execution_count": 32,
   "metadata": {
    "scrolled": true
   },
   "outputs": [
    {
     "name": "stdout",
     "output_type": "stream",
     "text": [
      "Homogeneity: 0.772\n",
      "Completeness: 0.799\n",
      "V-measure: 0.785\n"
     ]
    }
   ],
   "source": [
    "print_info(y_train, cagglomerative_average_label)"
   ]
  },
  {
   "cell_type": "code",
   "execution_count": 33,
   "metadata": {},
   "outputs": [
    {
     "name": "stdout",
     "output_type": "stream",
     "text": [
      "Our Agglomerative Average accuracy =  0.9\n"
     ]
    }
   ],
   "source": [
    "cagglomerative_average_pred = []\n",
    "for i, row in x_test.iterrows():\n",
    "    cagglomerative_average_pred.append(cagglomerative_average_model.predict(row))\n",
    "\n",
    "print(\n",
    "    'Our Agglomerative Average accuracy = ',\n",
    "    get_accuracy(apply_map_to_cluster(cagglomerative_average_pred, cagglomerative_average_map), y_test.reset_index(drop=True))\n",
    ")"
   ]
  },
  {
   "cell_type": "code",
   "execution_count": 34,
   "metadata": {},
   "outputs": [],
   "source": [
    "model_average = AgglomerativeClustering(3, linkage=\"average\").fit(x_train)\n",
    "agg_average_map = get_mapping_to_label(3, model_average.labels_, y_train)"
   ]
  },
  {
   "cell_type": "code",
   "execution_count": 35,
   "metadata": {},
   "outputs": [
    {
     "name": "stdout",
     "output_type": "stream",
     "text": [
      "Homogeneity: 0.772\n",
      "Completeness: 0.799\n",
      "V-measure: 0.785\n"
     ]
    }
   ],
   "source": [
    "print_info(y_train, model_average.labels_)"
   ]
  },
  {
   "cell_type": "code",
   "execution_count": 36,
   "metadata": {},
   "outputs": [
    {
     "name": "stdout",
     "output_type": "stream",
     "text": [
      "Our DBSCAN accuracy =  0.9333333333333333\n"
     ]
    }
   ],
   "source": [
    "agg_average_pred = sklean_predict(x_train, model_average.labels_, x_test)\n",
    "print(\n",
    "    'Our DBSCAN accuracy = ',\n",
    "    get_accuracy(apply_map_to_cluster(agg_average_pred, agg_average_map), y_test.reset_index(drop=True))\n",
    ")"
   ]
  },
  {
   "cell_type": "markdown",
   "metadata": {},
   "source": [
    "### Average Group"
   ]
  },
  {
   "cell_type": "code",
   "execution_count": 37,
   "metadata": {},
   "outputs": [],
   "source": [
    "cagglomerative_avg_g_model = c_Agglomerative(x_train, 3, 'average_group')\n",
    "cagglomerative_avg_g_label = cagglomerative_avg_g_model.get_all()\n",
    "cagglomerative_avg_g_map = get_mapping_to_label(3, cagglomerative_avg_g_label, y_train)"
   ]
  },
  {
   "cell_type": "code",
   "execution_count": 38,
   "metadata": {
    "scrolled": true
   },
   "outputs": [
    {
     "name": "stdout",
     "output_type": "stream",
     "text": [
      "Homogeneity: 0.772\n",
      "Completeness: 0.799\n",
      "V-measure: 0.785\n"
     ]
    }
   ],
   "source": [
    "print_info(y_train, cagglomerative_avg_g_label)"
   ]
  },
  {
   "cell_type": "code",
   "execution_count": 39,
   "metadata": {},
   "outputs": [
    {
     "name": "stdout",
     "output_type": "stream",
     "text": [
      "Our Agglomerative Average Group accuracy =  0.9\n"
     ]
    }
   ],
   "source": [
    "cagglomerative_avg_g_pred = []\n",
    "for i, row in x_test.iterrows():\n",
    "    cagglomerative_avg_g_pred.append(cagglomerative_avg_g_model.predict(row))\n",
    "\n",
    "print(\n",
    "    'Our Agglomerative Average Group accuracy = ',\n",
    "    get_accuracy(apply_map_to_cluster(cagglomerative_avg_g_pred, cagglomerative_avg_g_map), y_test.reset_index(drop=True))\n",
    ")"
   ]
  },
  {
   "cell_type": "code",
   "execution_count": null,
   "metadata": {},
   "outputs": [],
   "source": []
  },
  {
   "cell_type": "markdown",
   "metadata": {},
   "source": [
    "## KMeans"
   ]
  },
  {
   "cell_type": "code",
   "execution_count": 40,
   "metadata": {
    "scrolled": true
   },
   "outputs": [
    {
     "name": "stderr",
     "output_type": "stream",
     "text": [
      "  0%|                                                                                                        | 0/1000 [00:00<?, ?it/s]\n"
     ]
    }
   ],
   "source": [
    "ckmeans_model = c_KMeans(3, 1e-8, 1000)\n",
    "ckmeans_label = ckmeans_model.fit_predict(x_train)\n",
    "ckmeans_map = get_mapping_to_label(3, ckmeans_label, y_train)"
   ]
  },
  {
   "cell_type": "code",
   "execution_count": 41,
   "metadata": {},
   "outputs": [
    {
     "name": "stdout",
     "output_type": "stream",
     "text": [
      "Homogeneity: 0.522\n",
      "Completeness: 0.668\n",
      "V-measure: 0.586\n"
     ]
    }
   ],
   "source": [
    "print_info(y_train, ckmeans_label)"
   ]
  },
  {
   "cell_type": "code",
   "execution_count": 42,
   "metadata": {},
   "outputs": [
    {
     "name": "stdout",
     "output_type": "stream",
     "text": [
      "Our KMeans accuracy =  0.7333333333333333\n"
     ]
    }
   ],
   "source": [
    "ckmeans_pred = ckmeans_model.predict(x_test)\n",
    "\n",
    "print(\n",
    "    'Our KMeans accuracy = ',\n",
    "    get_accuracy(apply_map_to_cluster(ckmeans_pred, ckmeans_map), y_test.reset_index(drop=True))\n",
    ")"
   ]
  },
  {
   "cell_type": "code",
   "execution_count": 43,
   "metadata": {},
   "outputs": [],
   "source": [
    "kmeans_model = KMeans(3, tol=1e-8)\n",
    "kmeans_model.fit(x_train)\n",
    "kmeans_map = get_mapping_to_label(3, kmeans_model.labels_, y_train)"
   ]
  },
  {
   "cell_type": "code",
   "execution_count": 44,
   "metadata": {},
   "outputs": [
    {
     "name": "stdout",
     "output_type": "stream",
     "text": [
      "Homogeneity: 0.730\n",
      "Completeness: 0.745\n",
      "V-measure: 0.738\n"
     ]
    }
   ],
   "source": [
    "print_info(y_train, kmeans_model.labels_)"
   ]
  },
  {
   "cell_type": "code",
   "execution_count": 45,
   "metadata": {},
   "outputs": [
    {
     "name": "stdout",
     "output_type": "stream",
     "text": [
      "Scikit-learn KMeans accuracy =  0.9\n"
     ]
    }
   ],
   "source": [
    "kmeans_pred = kmeans_model.predict(x_test)\n",
    "\n",
    "print(\n",
    "    'Scikit-learn KMeans accuracy = ',\n",
    "    get_accuracy(apply_map_to_cluster(kmeans_pred, kmeans_map), y_test.reset_index(drop=True))\n",
    ")"
   ]
  }
 ],
 "metadata": {
  "kernelspec": {
   "display_name": "Python 3",
   "language": "python",
   "name": "python3"
  },
  "language_info": {
   "codemirror_mode": {
    "name": "ipython",
    "version": 3
   },
   "file_extension": ".py",
   "mimetype": "text/x-python",
   "name": "python",
   "nbconvert_exporter": "python",
   "pygments_lexer": "ipython3",
   "version": "3.7.4"
  }
 },
 "nbformat": 4,
 "nbformat_minor": 4
}
