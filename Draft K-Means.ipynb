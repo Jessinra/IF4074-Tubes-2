{
 "cells": [
  {
   "cell_type": "code",
   "execution_count": 17,
   "metadata": {},
   "outputs": [],
   "source": [
    "import matplotlib.pyplot as plt\n",
    "from matplotlib import style\n",
    "import numpy as np\n",
    "import random"
   ]
  },
  {
   "cell_type": "code",
   "execution_count": 18,
   "metadata": {},
   "outputs": [
    {
     "data": {
      "image/png": "[encoded data removed]",
      "text/plain": [
       "<Figure size 432x288 with 1 Axes>"
      ]
     },
     "metadata": {},
     "output_type": "display_data"
    }
   ],
   "source": [
    "style.use('ggplot')\n",
    "\n",
    "\n",
    "X = np.array([[1, 2],\n",
    "              [1.5, 1.8],\n",
    "              [5, 8],\n",
    "              [8, 8],\n",
    "              [1, 0.6],\n",
    "              [9, 11]])\n",
    "\n",
    "plt.scatter(X[:, 0], X[:, 1], s=150)\n",
    "plt.show()\n",
    "\n",
    "colors = 10*[\"g\", \"r\", \"c\", \"b\", \"k\"]"
   ]
  },
  {
   "cell_type": "code",
   "execution_count": 19,
   "metadata": {},
   "outputs": [],
   "source": [
    "class KMeans:\n",
    "\n",
    "    def __init__(self, k=2, tol=0.001, max_iter=100):\n",
    "        self.k = k\n",
    "        self.tol = tol\n",
    "        self.max_iter = max_iter\n",
    "        self.data = None\n",
    "        self.centroids = {}\n",
    "\n",
    "        self._prev_centroids = {}\n",
    "        self._optimized = False\n",
    "\n",
    "    def fit(self, data):\n",
    "\n",
    "        self.data = data\n",
    "        self._init_centroids()\n",
    "\n",
    "        for _ in range(self.max_iter):\n",
    "\n",
    "            self._init_clusters()\n",
    "            self._distribute_data_to_cluster()\n",
    "            self._recalculate_centroids()\n",
    "            self._evaluate_centroids()\n",
    "\n",
    "            if self._optimized:\n",
    "                break\n",
    "\n",
    "    def predict(self, data):\n",
    "        _distances = self._calculate_distances(data)\n",
    "        return self._get_closest_cluster(_distances)\n",
    "\n",
    "    def _init_clusters(self):\n",
    "        self.clusters = {i: [] for i in range(self.k)}\n",
    "\n",
    "    def _distribute_data_to_cluster(self):\n",
    "        \"\"\" Split dataset into k cluster \"\"\"\n",
    "\n",
    "        for data in self.data:\n",
    "            _distances = self._calculate_distances(data)\n",
    "            _cluster = self._get_closest_cluster(_distances)\n",
    "            self.clusters[_cluster].append(data)\n",
    "\n",
    "    def _recalculate_centroids(self):\n",
    "        \"\"\" Recalculate new centroid using means of data inside the cluster \"\"\"\n",
    "\n",
    "        self._prev_centroids = dict(self.centroids)\n",
    "        for cluster in self.clusters:\n",
    "            self.centroids[cluster] = np.average(self.clusters[cluster], axis=0)\n",
    "\n",
    "\n",
    "    def _evaluate_centroids(self):\n",
    "        \"\"\" Check whether the centroid is optimized (final) \"\"\"\n",
    "\n",
    "        for c in self.centroids:\n",
    "            _prev_cent = self._prev_centroids[c]\n",
    "            _curr_cent = self.centroids[c]\n",
    "            if np.sum((_curr_cent - _prev_cent) / _prev_cent * 100.0) <= self.tol:\n",
    "                self._optimized = True\n",
    "                return\n",
    "\n",
    "    def _get_closest_cluster(self, distances):\n",
    "        return distances.index(min(distances))\n",
    "\n",
    "    def _calculate_distances(self, data):\n",
    "        return [np.linalg.norm(data - self.centroids[centroid]) for centroid in self.centroids]\n",
    "\n",
    "\n",
    "    def _init_centroids(self):\n",
    "        self.centroids = {}\n",
    "        self._prev_centroids = {}\n",
    "\n",
    "        np.random.shuffle(self.data)\n",
    "        self.centroids = {i:self.data[i] for i in range(self.k)}"
   ]
  },
  {
   "cell_type": "code",
   "execution_count": 20,
   "metadata": {},
   "outputs": [
    {
     "data": {
      "image/png": "[encoded data removed]",
      "text/plain": [
       "<Figure size 432x288 with 1 Axes>"
      ]
     },
     "metadata": {},
     "output_type": "display_data"
    }
   ],
   "source": [
    "if __name__ == \"__main__\":\n",
    "\n",
    "    clf = KMeans()\n",
    "    clf.fit(X)\n",
    "\n",
    "    for centroid in clf.centroids:\n",
    "        plt.scatter(clf.centroids[centroid][0], clf.centroids[centroid][1],\n",
    "                    marker=\"o\", color=\"k\", s=150, linewidths=5)\n",
    "\n",
    "    for cluster in clf.clusters:\n",
    "        color = colors[cluster]\n",
    "        for featureset in clf.clusters[cluster]:\n",
    "            plt.scatter(featureset[0], featureset[1], marker=\"x\", color=color, s=150, linewidths=5)\n",
    "\n",
    "    plt.show()"
   ]
  },
  {
   "cell_type": "code",
   "execution_count": null,
   "metadata": {},
   "outputs": [],
   "source": []
  }
 ],
 "metadata": {
  "kernelspec": {
   "display_name": "Python 3",
   "language": "python",
   "name": "python3"
  },
  "language_info": {
   "codemirror_mode": {
    "name": "ipython",
    "version": 3
   },
   "file_extension": ".py",
   "mimetype": "text/x-python",
   "name": "python",
   "nbconvert_exporter": "python",
   "pygments_lexer": "ipython3",
   "version": "3.6.8"
  }
 },
 "nbformat": 4,
 "nbformat_minor": 2
}
